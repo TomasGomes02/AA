{
 "cells": [
  {
   "attachments": {},
   "cell_type": "markdown",
   "metadata": {},
   "source": [
    "#### Imports"
   ]
  },
  {
   "cell_type": "code",
   "execution_count": 15,
   "metadata": {},
   "outputs": [],
   "source": [
    "import pickle\n",
    "import re\n",
    "import time\n",
    "\n",
    "from mpl_toolkits import mplot3d\n",
    "import matplotlib.pyplot as plt\n",
    "import numpy as np\n",
    "import scipy.linalg as la\n",
    "\n",
    "from nltk.stem import SnowballStemmer\n",
    "from sklearn.feature_extraction.text import TfidfVectorizer\n",
    "\n",
    "from sklearn.linear_model import LogisticRegression, SGDClassifier\n",
    "from sklearn.model_selection import train_test_split, cross_val_score\n",
    "\n",
    "from sklearn.metrics import confusion_matrix, classification_report, average_precision_score, precision_recall_curve, roc_curve\n",
    "\n",
    "from sklearn.decomposition import TruncatedSVD\n",
    "\n",
    "from sklearn.svm import LinearSVC\n",
    "from sklearn.preprocessing import StandardScaler\n",
    "from sklearn.neighbors import KNeighborsClassifier\n",
    "\n",
    "from plotMatriz import plotMatriz"
   ]
  },
  {
   "attachments": {},
   "cell_type": "markdown",
   "metadata": {},
   "source": [
    "### Paths pickles"
   ]
  },
  {
   "cell_type": "code",
   "execution_count": 16,
   "metadata": {},
   "outputs": [],
   "source": [
    "stemmed_data_path = '../SnowballStem/stemsnowball.p'\n",
    "tok_path = '../Imagens/toks_min_df_tp_on_size.p'\n",
    "\n",
    "tfidf_bin_path      = '../Binario/tfidf_bin.p'\n",
    "logReg_bin_path     = '../Binario/logReg_bin.p'\n",
    "\n",
    "tfidf_bin_SVD_path  = '../Binario/tfidf_SVD_bin.p'\n",
    "dados_bin_path = '../Binario/dados_bin.p'\n",
    "arrays_dados_bin_path = '../Binario/arrays_dados_bin.p'\n",
    "logReg_bin_SVD_path = '../Binario/logReg_SVD_bin.p'\n",
    "\n",
    "tfidf_bin_result  = '../Binario/tfidf_bin_final.p'\n",
    "logReg_bin_result = '../Binario/logReg_final.p'\n",
    "lSVC_bin_result   = '../Binario/lSVC_final.p'\n",
    "\n",
    "SVD_bin_path     = '../Binario/svd.p'\n",
    "SVD_multi_path   = '../Multiclasse/svd.p'\n",
    "\n",
    "tfidf_multi_path  = '../Multiclasse/tfidf_multi.p'\n",
    "logReg_multi_path = '../Multiclasse/logReg_multi.p'\n",
    "\n",
    "\n",
    "tfidf_multi_result  = '../Multiclasse/tfidf_multi_final.p'\n",
    "logReg_multi_result = '../Multiclasse/logReg_multi_final.p'\n",
    "lSVC_multi_result   = '../Multiclasse/lSVC_multi_final.p'\n",
    "\n",
    "tfidf_multi_SVD_path  = '../Multiclasse/tfidf_SVD_multi.p'\n",
    "logReg_multi_SVD_path = '../Multiclasse/logReg_SVD_multi.p'\n",
    "\n",
    "SVD_multi_l2 = '../Imagens/Multiclasse/TruncatedSVD/result_l2.p'\n",
    "\n",
    "SVD_bin_l1 = '../Imagens/Binario/TruncatedSVD/result_l1.p'\n",
    "SVD_bin_l2 = '../Imagens/Binario/TruncatedSVD/result_l2.p'"
   ]
  },
  {
   "cell_type": "code",
   "execution_count": 17,
   "metadata": {},
   "outputs": [],
   "source": [
    "def load_Xy(filename):\n",
    "    D = pickle.load(open(filename, 'rb'))\n",
    "    return D.data, D.target\n",
    "\n",
    "def get_tfidf_repr(Docs, min_df=1, token_pattern=r'\\b\\w\\w+\\b', ngram_range=(1,1)):\n",
    "    tfidf = TfidfVectorizer(min_df=min_df, token_pattern=token_pattern, ngram_range=ngram_range).fit(Docs)\n",
    "    x = tfidf.transform(Docs)\n",
    "    return tfidf, x\n",
    "\n",
    "def get_bin_stats(CM):\n",
    "    TN = CM[0][0]\n",
    "    FP = CM[0][1]\n",
    "    FN = CM[1][0]\n",
    "    TP = CM[1][1]\n",
    "    recall  = TP/(TP+FN)\n",
    "    fp_rate = FP/(FP+TN)\n",
    "    prec    = TP/(TP+FP)\n",
    "    stats = {'recall' : recall, 'fp-rate' : fp_rate, 'precision' : prec}\n",
    "    return stats\n",
    "\n",
    "def set_text2vector(Docs, class_type, svd=False):\n",
    "    # class_type : 'm' -> multiclasse, 'b' -> binaria\n",
    "    Docs = [doc.replace('<br />', ' ') for doc in Docs]\n",
    "    Docs = [re.sub(r'[^a-zA-Z]+', ' ', doc) for doc in Docs]\n",
    "\n",
    "    stemFunc = SnowballStemmer('english')\n",
    "    DocsS = [ ' '.join([stemFunc.stem(w) for w in d.split()]) for d in Docs ]\n",
    "    tfidf = None\n",
    "    if class_type == 'b':\n",
    "        if svd:\n",
    "            tfidf = pickle.load(open(tfidf_bin_SVD_path, 'rb'))['tfidf']\n",
    "        else:\n",
    "            tfidf = pickle.load(open(tfidf_bin_result, 'rb'))['tfidf']\n",
    "    elif class_type == 'm':\n",
    "        tfidf = pickle.load(open(tfidf_multi_result, 'rb'))['tfidf']\n",
    "    X = tfidf.transform(DocsS)\n",
    "    return X\n",
    "\n",
    "def set_text2vectorSVD(Docs, class_type, svd=False):\n",
    "    # class_type : 'm' -> multiclasse, 'b' -> binaria\n",
    "    X   = set_text2vector(Docs, class_type, svd)\n",
    "    svd = None\n",
    "    if class_type == 'b':\n",
    "        svd = pickle.load(open(SVD_bin_path, 'rb'))['svd']\n",
    "    elif class_type == 'm':\n",
    "        svd = pickle.load(open(SVD_multi_path, 'rb'))['svd']\n",
    "    return svd.transform(X)\n",
    "\n",
    "def binClassify(X, clas, svd):\n",
    "    if clas == 'logReg':\n",
    "        if svd == True:\n",
    "            classificador = pickle.load(open(logReg_bin_SVD_path, 'rb'))['logReg']\n",
    "        elif svd == False:\n",
    "            classificador = pickle.load(open(logReg_bin_result, 'rb'))['logReg']\n",
    "\n",
    "    elif clas == 'SVC':\n",
    "        classificador = pickle.load(open(lSVC_bin_result, 'rb'))['lSVC']\n",
    "\n",
    "    return classificador.predict(X)\n",
    "\n",
    "def multiClassify(X, clas, svd):\n",
    "    if clas == 'logReg':\n",
    "        if svd == True:\n",
    "            classificador = pickle.load(open(logReg_multi_SVD_path, 'rb'))['logReg']\n",
    "        elif svd == False:\n",
    "            classificador = pickle.load(open(logReg_multi_result, 'rb'))['logReg']\n",
    "\n",
    "    elif clas == 'SVC':\n",
    "        classificador = pickle.load(open(lSVC_multi_result, 'rb'))['lSVC']\n",
    "\n",
    "    return classificador.predict(X)"
   ]
  },
  {
   "attachments": {},
   "cell_type": "markdown",
   "metadata": {},
   "source": [
    "## Load dos dados"
   ]
  },
  {
   "cell_type": "code",
   "execution_count": 18,
   "metadata": {},
   "outputs": [
    {
     "name": "stdout",
     "output_type": "stream",
     "text": [
      "Número de exemplos : 50000\n",
      "Classes dos dados  : [ 1  2  3  4  7  8  9 10]\n"
     ]
    },
    {
     "data": {
      "image/png": "[encoded data removed]",
      "text/plain": [
       "<Figure size 432x288 with 1 Axes>"
      ]
     },
     "metadata": {
      "needs_background": "light"
     },
     "output_type": "display_data"
    },
    {
     "data": {
      "image/png": "[encoded data removed]",
      "text/plain": [
       "<Figure size 432x288 with 1 Axes>"
      ]
     },
     "metadata": {
      "needs_background": "light"
     },
     "output_type": "display_data"
    }
   ],
   "source": [
    "Docs, y = load_Xy('../Dados/imdbFull.p')\n",
    "print('Número de exemplos :', len(Docs))\n",
    "print('Classes dos dados  :', np.unique(y))\n",
    "\n",
    "plt.plot(y, '.')\n",
    "plt.title('Ordenação dos Exemplos por Classe', fontsize=18)\n",
    "plt.ylabel('Classe', fontsize=16)\n",
    "plt.xlabel('Índice do Exemplo', fontsize=16)\n",
    "#plt.savefig('imagens/ordenacao_dados.png', dpi=300)\n",
    "\n",
    "hx,b = np.histogram(y, np.arange(0.5, 11, 0.5))\n",
    "b = (b[:-1]+b[1:])/2\n",
    "\n",
    "plt.show()\n",
    "plt.title('Histograma dos Exemplos por Classe', fontsize=18)\n",
    "plt.ylabel('Nº de Exemplos', fontsize=16)\n",
    "plt.xlabel('Classe', fontsize=16)\n",
    "\n",
    "plt.bar(b-0.25, hx)\n",
    "plt.xticks(np.arange(1,11,1), fontsize=14)\n",
    "plt.grid()"
   ]
  },
  {
   "cell_type": "code",
   "execution_count": 19,
   "metadata": {},
   "outputs": [],
   "source": [
    "#Substituir mudanças de linha\n",
    "Docs = [doc.replace('<br />', ' ') for doc in Docs]\n",
    "#Remover tudo o que não sejam caracteres do alfabeto\n",
    "Docs = [re.sub(r'[^a-zA-Z\\u00C0-\\u00FF]+', ' ', doc) for doc in Docs]"
   ]
  },
  {
   "attachments": {},
   "cell_type": "markdown",
   "metadata": {},
   "source": [
    "## Stemmers (Snowball Stemmer)"
   ]
  },
  {
   "cell_type": "code",
   "execution_count": 20,
   "metadata": {},
   "outputs": [
    {
     "name": "stdout",
     "output_type": "stream",
     "text": [
      "dict_keys(['Docs', 'y'])\n"
     ]
    }
   ],
   "source": [
    "'Foi executado uma vez'\n",
    "# stemFunc = SnowballStemmer(language='english')\n",
    "# Docs2 = [' '.join([stemFunc.stem(w) for w in d.split()]) for d in Docs]\n",
    "\n",
    "# imdb_snowball = {'Docs' : Docs2, 'y':y}\n",
    "# pickle.dump(imdb_snowball, open(stemmed_data_path, 'wb'))\n",
    "imdb_snowball = pickle.load(open(stemmed_data_path, 'rb'))\n",
    "print(imdb_snowball.keys())"
   ]
  },
  {
   "cell_type": "code",
   "execution_count": 21,
   "metadata": {},
   "outputs": [
    {
     "ename": "FileNotFoundError",
     "evalue": "[Errno 2] No such file or directory: 'Imagens/toks_min_df_tp_on_size.p'",
     "output_type": "error",
     "traceback": [
      "\u001b[1;31m---------------------------------------------------------------------------\u001b[0m",
      "\u001b[1;31mFileNotFoundError\u001b[0m                         Traceback (most recent call last)",
      "\u001b[1;32mc:\\Users\\tomas\\Desktop\\ISEL\\AA\\Projecto_Final\\Código\\A47500_A48614.ipynb Cell 11\u001b[0m in \u001b[0;36m<cell line: 9>\u001b[1;34m()\u001b[0m\n\u001b[0;32m      <a href='vscode-notebook-cell:/c%3A/Users/tomas/Desktop/ISEL/AA/Projecto_Final/C%C3%B3digo/A47500_A48614.ipynb#X13sZmlsZQ%3D%3D?line=3'>4</a>\u001b[0m \u001b[39m'\u001b[39m\u001b[39mFoi executado uma vez\u001b[39m\u001b[39m'\u001b[39m\n\u001b[0;32m      <a href='vscode-notebook-cell:/c%3A/Users/tomas/Desktop/ISEL/AA/Projecto_Final/C%C3%B3digo/A47500_A48614.ipynb#X13sZmlsZQ%3D%3D?line=4'>5</a>\u001b[0m \u001b[39m# tfidfs = np.array([len(TfidfVectorizer(min_df=i, token_pattern=j,ngram_range=(1,1)).fit(Docs).get_feature_names()) for i in min_dfs for j in patterns]).reshape((4,3))\u001b[39;00m\n\u001b[0;32m      <a href='vscode-notebook-cell:/c%3A/Users/tomas/Desktop/ISEL/AA/Projecto_Final/C%C3%B3digo/A47500_A48614.ipynb#X13sZmlsZQ%3D%3D?line=5'>6</a>\u001b[0m \n\u001b[0;32m      <a href='vscode-notebook-cell:/c%3A/Users/tomas/Desktop/ISEL/AA/Projecto_Final/C%C3%B3digo/A47500_A48614.ipynb#X13sZmlsZQ%3D%3D?line=6'>7</a>\u001b[0m \u001b[39m# tok = {'tokens' : tfidfs}\u001b[39;00m\n\u001b[0;32m      <a href='vscode-notebook-cell:/c%3A/Users/tomas/Desktop/ISEL/AA/Projecto_Final/C%C3%B3digo/A47500_A48614.ipynb#X13sZmlsZQ%3D%3D?line=7'>8</a>\u001b[0m \u001b[39m# pickle.dump(tok, open(tok_path, 'wb'))\u001b[39;00m\n\u001b[1;32m----> <a href='vscode-notebook-cell:/c%3A/Users/tomas/Desktop/ISEL/AA/Projecto_Final/C%C3%B3digo/A47500_A48614.ipynb#X13sZmlsZQ%3D%3D?line=8'>9</a>\u001b[0m tfidfs \u001b[39m=\u001b[39m pickle\u001b[39m.\u001b[39mload(\u001b[39mopen\u001b[39;49m(tok_path, \u001b[39m'\u001b[39;49m\u001b[39mrb\u001b[39;49m\u001b[39m'\u001b[39;49m))[\u001b[39m'\u001b[39m\u001b[39mtokens\u001b[39m\u001b[39m'\u001b[39m]\n\u001b[0;32m     <a href='vscode-notebook-cell:/c%3A/Users/tomas/Desktop/ISEL/AA/Projecto_Final/C%C3%B3digo/A47500_A48614.ipynb#X13sZmlsZQ%3D%3D?line=9'>10</a>\u001b[0m \u001b[39mprint\u001b[39m(tfidfs)\n",
      "\u001b[1;31mFileNotFoundError\u001b[0m: [Errno 2] No such file or directory: 'Imagens/toks_min_df_tp_on_size.p'"
     ]
    }
   ],
   "source": [
    "#2, 3 e 4\n",
    "patterns = [r'\\b\\w\\w+\\b', r'\\b\\w\\w\\w+\\b', r'\\b\\w\\w\\w\\w+\\b']\n",
    "min_dfs = [2,3,4,5]\n",
    "'Foi executado uma vez'\n",
    "# tfidfs = np.array([len(TfidfVectorizer(min_df=i, token_pattern=j,ngram_range=(1,1)).fit(Docs).get_feature_names()) for i in min_dfs for j in patterns]).reshape((4,3))\n",
    "\n",
    "# tok = {'tokens' : tfidfs}\n",
    "# pickle.dump(tok, open(tok_path, 'wb'))\n",
    "tfidfs = pickle.load(open(tok_path, 'rb'))['tokens']\n",
    "print(tfidfs)"
   ]
  },
  {
   "cell_type": "code",
   "execution_count": null,
   "metadata": {},
   "outputs": [
    {
     "data": {
      "image/png": "[encoded data removed]",
      "text/plain": [
       "<Figure size 1000x800 with 1 Axes>"
      ]
     },
     "metadata": {},
     "output_type": "display_data"
    }
   ],
   "source": [
    "fig = plt.figure(figsize=(10, 8))\n",
    "ax1 = fig.add_subplot(121, projection='3d')\n",
    "\n",
    "_x = np.array(min_dfs)\n",
    "_y = np.array([2,3,4])\n",
    "_xx, _yy = np.meshgrid(_x, _y)\n",
    "x, y = _xx.ravel(), _yy.ravel()\n",
    "\n",
    "top = tfidfs[x-2, y-2]/1000\n",
    "bottom = np.zeros_like(top)\n",
    "width = depth = 1\n",
    "\n",
    "ax1.bar3d(x, y, bottom, width, depth, top, shade=True)\n",
    "ax1.set_title('')\n",
    "ax1.set_xlabel('Min DF', fontsize=15)\n",
    "ax1.set_ylabel('Pattern', fontsize=15)\n",
    "ax1.set_yticks([2,3,4])\n",
    "ax1.set_zlabel('Dimensão do vocabulário (milhares)', fontsize=15)    \n",
    "plt.show()"
   ]
  },
  {
   "attachments": {},
   "cell_type": "markdown",
   "metadata": {},
   "source": [
    "## Binário - Discriminante Logístico"
   ]
  },
  {
   "attachments": {},
   "cell_type": "markdown",
   "metadata": {},
   "source": [
    "### Função auxiliar"
   ]
  },
  {
   "attachments": {},
   "cell_type": "markdown",
   "metadata": {},
   "source": [
    "#### Função que retorna os scores do Classifier"
   ]
  },
  {
   "cell_type": "code",
   "execution_count": null,
   "metadata": {},
   "outputs": [],
   "source": [
    "def get_scores_lr(X1Train, X1V, X2, y1Train, y1V, y2, penalty, C, mc='ovr'):\n",
    "    lr = LogisticRegression(penalty= penalty, solver='liblinear',C = C, max_iter=5000, tol=1e-2,multi_class=mc).fit(X1Train,y1Train)\n",
    "    \n",
    "    scTrain     = lr.score(X1Train,y1Train)*100\n",
    "    scValidated = lr.score(X1V,y1V)*100\n",
    "    scSA        = scValidated - (scTrain- scValidated)\n",
    "    scTest      = lr.score(X2,y2)*100\n",
    "    \n",
    "    scores = np.array([scTrain,scValidated,scSA,scTest])\n",
    "\n",
    "    #show Confusion Matrix\n",
    "\n",
    "    y2e = lr.predict(X2)\n",
    "    n_erros = np.sum(y2 != y2e)\n",
    "    CM = confusion_matrix(y2,y2e)\n",
    "    par = (penalty, C)\n",
    "\n",
    "    return scores, CM, n_erros, par"
   ]
  },
  {
   "attachments": {},
   "cell_type": "markdown",
   "metadata": {},
   "source": [
    "### Testar Binário"
   ]
  },
  {
   "cell_type": "code",
   "execution_count": null,
   "metadata": {},
   "outputs": [],
   "source": [
    "D = pickle.load(open(stemmed_data_path,'rb'))\n",
    "\n",
    "X = D['Docs']\n",
    "y = D['y']\n",
    "\n",
    "y[y < 5] = 0\n",
    "y[y > 6] = 1\n",
    "\n",
    "ngram_ranges   = [(1,1), (1,2), (1,3)]"
   ]
  },
  {
   "cell_type": "code",
   "execution_count": null,
   "metadata": {},
   "outputs": [
    {
     "data": {
      "text/plain": [
       "'Foi executado uma vez'"
      ]
     },
     "execution_count": 38,
     "metadata": {},
     "output_type": "execute_result"
    }
   ],
   "source": [
    "'Foi executado uma vez'\n",
    "# X1, X2, y1, y2 = train_test_split(X,y,test_size=1/4,stratify=y)\n",
    "# X1Train, X1V, y1Train, y1V = train_test_split(X1, y1, test_size=1/3,stratify=y1)\n",
    "\n",
    "# dados = {'X1': X1, 'X2': X2, 'y1': y1, 'y2': y2, 'X1Train': X1Train, 'X1V': X1V, 'y1Train': y1Train, 'y1V': y1V}\n",
    "# pickle.dump(dados, open(dados_bin_path, 'wb'))\n",
    "\n",
    "# tfidf_parameters = np.array([(TfidfVectorizer(min_df=i, token_pattern= j, ngram_range=k).fit(X1Train),(i,j,k)) for i in min_dfs for j in patterns for k in ngram_ranges])\n",
    "\n",
    "# tfidf      = np.array([tfidf_parameters[i][0] for i in range(len(tfidf_parameters))])\n",
    "# parameters = np.array([tfidf_parameters[i][1] for i in range(len(tfidf_parameters))])\n",
    "\n",
    "\n",
    "# TF_model = {'tfidf' : tfidf, 'parameters' : parameters}\n",
    "# pickle.dump(TF_model, open(tfidf_bin_path, 'wb'))"
   ]
  },
  {
   "cell_type": "code",
   "execution_count": null,
   "metadata": {},
   "outputs": [],
   "source": [
    "X1 = pickle.load(open(dados_bin_path, 'rb'))['X1']\n",
    "X1Train = pickle.load(open(dados_bin_path, 'rb'))['X1Train']\n",
    "X1V = pickle.load(open(dados_bin_path, 'rb'))['X1V']\n",
    "X2 = pickle.load(open(dados_bin_path, 'rb'))['X2']\n",
    "\n",
    "tfidf = pickle.load(open(tfidf_bin_path, 'rb'))['tfidf']\n",
    "parameters = pickle.load(open(tfidf_bin_path, 'rb'))['parameters'] # os parameters tem [min_df, pattern, ngram]"
   ]
  },
  {
   "cell_type": "code",
   "execution_count": null,
   "metadata": {},
   "outputs": [
    {
     "data": {
      "text/plain": [
       "'Foi executado uma vez'"
      ]
     },
     "execution_count": 40,
     "metadata": {},
     "output_type": "execute_result"
    }
   ],
   "source": [
    "'Foi executado uma vez'\n",
    "# X1s      = np.array([i.transform(X1) for i in tfidf])\n",
    "# X1Trains = np.array([i.transform(X1Train) for i in tfidf])\n",
    "# X1Vs     = np.array([i.transform(X1V) for i in tfidf])\n",
    "# X2s      = np.array([i.transform(X2) for i in tfidf])\n",
    "\n",
    "# dados = {'X1s' : X1s,'X1Trains' : X1Trains, 'X1Vs' : X1Vs, 'X2s' : X2s}\n",
    "# pickle.dump(dados, open(arrays_dados_bin_path, 'wb'))"
   ]
  },
  {
   "cell_type": "code",
   "execution_count": null,
   "metadata": {},
   "outputs": [],
   "source": [
    "X1s      = pickle.load(open(arrays_dados_bin_path, 'rb'))['X1s']\n",
    "X1Trains = pickle.load(open(arrays_dados_bin_path, 'rb'))['X1Trains']\n",
    "X1Vs     = pickle.load(open(arrays_dados_bin_path, 'rb'))['X1Vs']\n",
    "X2s      = pickle.load(open(arrays_dados_bin_path, 'rb'))['X2s']"
   ]
  },
  {
   "cell_type": "code",
   "execution_count": null,
   "metadata": {},
   "outputs": [],
   "source": [
    "y1Train = pickle.load(open(dados_bin_path, 'rb'))['y1Train']\n",
    "y1V     = pickle.load(open(dados_bin_path, 'rb'))['y1V']\n",
    "y1      = pickle.load(open(dados_bin_path, 'rb'))['y1']\n",
    "y2      = pickle.load(open(dados_bin_path, 'rb'))['y2']"
   ]
  },
  {
   "cell_type": "code",
   "execution_count": null,
   "metadata": {},
   "outputs": [],
   "source": [
    "penaltys = ['l1', 'l2']\n",
    "Cs = [0.01, 0.1, 1,  5]"
   ]
  },
  {
   "cell_type": "code",
   "execution_count": null,
   "metadata": {},
   "outputs": [],
   "source": [
    "indice = 0\n",
    "best_scores = []\n",
    "par = []\n",
    "for l in range(len(tfidf)):\n",
    "    scores_ps_cs = np.array([get_scores_lr(X1Trains[l], X1Vs[l], X2s[l], y1Train, y1V, y2, 'l1', j)[0][3]   for j in Cs])  \n",
    "    par_ps_cs    = np.array([get_scores_lr(X1Trains[l], X1Vs[l], X2s[l], y1Train, y1V, y2, 'l1', j)[3][1]   for j in Cs]) \n",
    "    \n",
    "    best_scores.append(scores_ps_cs)\n",
    "    par.append(par_ps_cs)"
   ]
  },
  {
   "cell_type": "code",
   "execution_count": null,
   "metadata": {},
   "outputs": [
    {
     "data": {
      "text/plain": [
       "[<matplotlib.lines.Line2D at 0x27f8b9da850>,\n",
       " <matplotlib.lines.Line2D at 0x27a26e3c050>,\n",
       " <matplotlib.lines.Line2D at 0x27a28939e90>,\n",
       " <matplotlib.lines.Line2D at 0x27d5d1fc550>]"
      ]
     },
     "execution_count": 45,
     "metadata": {},
     "output_type": "execute_result"
    },
    {
     "data": {
      "image/png": "[encoded data removed]",
      "text/plain": [
       "<Figure size 640x480 with 1 Axes>"
      ]
     },
     "metadata": {},
     "output_type": "display_data"
    }
   ],
   "source": [
    "plt.plot(par, best_scores,'*')"
   ]
  }
 ],
 "metadata": {
  "kernelspec": {
   "display_name": "base",
   "language": "python",
   "name": "python3"
  },
  "language_info": {
   "codemirror_mode": {
    "name": "ipython",
    "version": 3
   },
   "file_extension": ".py",
   "mimetype": "text/x-python",
   "name": "python",
   "nbconvert_exporter": "python",
   "pygments_lexer": "ipython3",
   "version": "3.9.12"
  },
  "orig_nbformat": 4,
  "vscode": {
   "interpreter": {
    "hash": "5b2969845afce51981f1ccb76a9a4bb1e34295b95061f0a23dc09804e845d44d"
   }
  }
 },
 "nbformat": 4,
 "nbformat_minor": 2
}
