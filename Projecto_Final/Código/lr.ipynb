{
 "cells": [
  {
   "cell_type": "code",
   "execution_count": 2,
   "metadata": {},
   "outputs": [],
   "source": [
    "from sklearn.svm import LinearSVC\n",
    "import pickle\n",
    "import time"
   ]
  },
  {
   "attachments": {},
   "cell_type": "markdown",
   "metadata": {},
   "source": [
    "### Caso Binário"
   ]
  },
  {
   "cell_type": "code",
   "execution_count": null,
   "metadata": {},
   "outputs": [],
   "source": [
    "#Docs, y = pickle.load(open('', 'rb'))\n",
    "#yB = y.copy()\n",
    "#yB[yb < 5] = 0\n",
    "#yB[yB > 6] = 1"
   ]
  },
  {
   "attachments": {},
   "cell_type": "markdown",
   "metadata": {},
   "source": [
    "### Divisão dos dados em Treino, Validação e Teste"
   ]
  },
  {
   "cell_type": "code",
   "execution_count": null,
   "metadata": {},
   "outputs": [],
   "source": [
    "#Docs1, y1, Docs2, y2 = train_test_split(Docs, yB, test_size=1/4, stratify=y)\n",
    "#Docs1t, Docs1v, y1t, y1v = train_test_split(Docs1, y1)"
   ]
  },
  {
   "attachments": {},
   "cell_type": "markdown",
   "metadata": {},
   "source": [
    "### Parametros ótimos previamente obtidos"
   ]
  },
  {
   "cell_type": "code",
   "execution_count": null,
   "metadata": {},
   "outputs": [],
   "source": [
    "# best_df = \n",
    "# best_token_pattern = \n",
    "# best_ngram = \n",
    "# best_penalty = \n",
    "# best_c = "
   ]
  },
  {
   "attachments": {},
   "cell_type": "markdown",
   "metadata": {},
   "source": [
    "### Vetorizar texto"
   ]
  },
  {
   "cell_type": "code",
   "execution_count": null,
   "metadata": {},
   "outputs": [],
   "source": [
    "#tfidf = TfidfVectorizer(min_df=best_df,\n",
    "#                        token_pattern=best_token_pattern,\n",
    "#                        ngram_range=bestngrame).fit(Docs1t)"
   ]
  },
  {
   "cell_type": "code",
   "execution_count": null,
   "metadata": {},
   "outputs": [],
   "source": [
    "#print(\"Vetorizar texto...\")\n",
    "#inicio = time.time()\n",
    "#X1t = tfidf.transform(Docs1t)\n",
    "#X1v = tfidf.transform(Docs1v)\n",
    "#X2 = tfidf.transform(Docs2)"
   ]
  },
  {
   "attachments": {},
   "cell_type": "markdown",
   "metadata": {},
   "source": [
    "## LinearSVC"
   ]
  },
  {
   "attachments": {},
   "cell_type": "markdown",
   "metadata": {},
   "source": [
    "### Treinar Modelo"
   ]
  },
  {
   "cell_type": "code",
   "execution_count": null,
   "metadata": {},
   "outputs": [],
   "source": [
    "#l_svc = LinearSVC(C = best_c, penalty=best_penalty, max_iter=2000, tol=1e-4)"
   ]
  }
 ],
 "metadata": {
  "kernelspec": {
   "display_name": "base",
   "language": "python",
   "name": "python3"
  },
  "language_info": {
   "codemirror_mode": {
    "name": "ipython",
    "version": 3
   },
   "file_extension": ".py",
   "mimetype": "text/x-python",
   "name": "python",
   "nbconvert_exporter": "python",
   "pygments_lexer": "ipython3",
   "version": "3.9.12"
  },
  "orig_nbformat": 4,
  "vscode": {
   "interpreter": {
    "hash": "5b2969845afce51981f1ccb76a9a4bb1e34295b95061f0a23dc09804e845d44d"
   }
  }
 },
 "nbformat": 4,
 "nbformat_minor": 2
}
