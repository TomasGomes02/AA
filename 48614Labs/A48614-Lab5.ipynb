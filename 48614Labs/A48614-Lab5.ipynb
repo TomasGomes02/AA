{
 "cells": [
  {
   "cell_type": "markdown",
   "metadata": {},
   "source": [
    "# LAb5: Generalização de modelos lineares"
   ]
  },
  {
   "cell_type": "markdown",
   "metadata": {},
   "source": [
    "<hr style=\"border:1px  solid black\"> </hr>"
   ]
  },
  {
   "cell_type": "markdown",
   "metadata": {},
   "source": [
    "### (Preencher)\n",
    "## Nome: \n",
    "## Número: "
   ]
  },
  {
   "cell_type": "markdown",
   "metadata": {},
   "source": [
    "<hr style=\"border:1px  solid black\"> </hr>"
   ]
  },
  {
   "cell_type": "markdown",
   "metadata": {},
   "source": [
    "## Desenvolva e corra o código pedido nas células imediatamente abaixo das perguntas."
   ]
  },
  {
   "cell_type": "markdown",
   "metadata": {},
   "source": [
    "# IMPORTANTE:\n",
    "## Uma vez completado, grave este Jupyter notebook com o seguinte nome:\n",
    "## Axxxxx-Lab5.ipynb (Axxxxx: número de aluno)\n",
    "##  e depois submeta o ficheiro no link do Moodle providenciado para o efeito."
   ]
  },
  {
   "cell_type": "markdown",
   "metadata": {},
   "source": [
    "<hr style=\"border:2px solid black\"> </hr>"
   ]
  },
  {
   "attachments": {},
   "cell_type": "markdown",
   "metadata": {},
   "source": [
    "# Dados: breast_cancer dataset do sklearn\n",
    "### Considere os dados do breast_cancer dataset do sklearn, divididos em três conjuntos, treino/validação/teste, segundo os comandos da próxima célula.\n",
    "* ### X1a: dados de treino (array de $319\\times30$)\n",
    "* ### y1a: classe do dados de treino\n",
    "* ### X1b: dados de validação (array de $100\\times30$)\n",
    "* ### y1b: classe do dados de validação\n",
    "* ### X2: dados de treino (array de $150\\times30$)\n",
    "* ### y2: classe do dados de teste"
   ]
  },
  {
   "cell_type": "code",
   "execution_count": 108,
   "metadata": {},
   "outputs": [],
   "source": [
    "import numpy as np\n",
    "import matplotlib.pyplot as plt\n",
    "from sklearn.metrics import confusion_matrix, roc_curve\n",
    "from sklearn.model_selection import  train_test_split\n",
    "import sklearn.datasets as DT\n",
    "from sklearn.svm import SVC\n",
    "from sklearn.linear_model import LogisticRegression\n",
    "\n",
    "D=DT.load_breast_cancer()\n",
    "X=D.data\n",
    "y=D.target\n",
    "\n",
    "################################################################\n",
    "#ATENÇÃO: Considerar os casos malígnos como positivos (classe 1)\n",
    "#Necessário inverter classes\n",
    "y=np.abs(y-1)\n",
    "################################################################\n",
    "\n",
    "#divitir em treino, validação e teste\n",
    "X1,X2,y1,y2=train_test_split(X,y,test_size=150,stratify=y,random_state=42)\n",
    "X1a,X1b,y1a,y1b=train_test_split(X1,y1,test_size=100,stratify=y1,random_state=42)"
   ]
  },
  {
   "cell_type": "code",
   "execution_count": 109,
   "metadata": {},
   "outputs": [
    {
     "data": {
      "text/plain": [
       "dict_keys(['data', 'target', 'frame', 'target_names', 'DESCR', 'feature_names', 'filename', 'data_module'])"
      ]
     },
     "execution_count": 109,
     "metadata": {},
     "output_type": "execute_result"
    }
   ],
   "source": [
    "D.keys()"
   ]
  },
  {
   "attachments": {},
   "cell_type": "markdown",
   "metadata": {},
   "source": [
    "# Pergunta 1: Discriminantes logístico\n",
    "##  Considere um discriminante logístico com regularização (lasso) e com os parâmetros C=2, solver='saga' e max_iter=5000. Treine o classificador com os conjuntos de treino e validação (419 exemplos).\n",
    "### a) Imprima o número total de erros e matriz de confusão (não normalizada) deste classificador para o conjunto de teste.\n",
    "### b) Imprima o índice e os nomes (feature names) das dimensões dos dados que não interferem no processo de classificação (dimensões descartadas).\n",
    "### c) Calibre este classificador de maneira a ter um número máximo de falsos negativos no teste inferior o igual a 5, e ao mesmo tempo mantendo o número total de erros igual à da alínea 1.a).\n",
    "### d) Faça um plot da curva ROC deste classificador com os dados de teste. Inclua nesse plot o ponto operacional dos classificadores da alínea 1.a) e 1.c)."
   ]
  },
  {
   "cell_type": "markdown",
   "metadata": {},
   "source": [
    "## 1.a)"
   ]
  },
  {
   "cell_type": "code",
   "execution_count": 110,
   "metadata": {},
   "outputs": [
    {
     "name": "stdout",
     "output_type": "stream",
     "text": [
      "Erros:  12 \n",
      "\n",
      "Matriz de confusão:\n",
      " [[93  1]\n",
      " [11 45]]\n"
     ]
    }
   ],
   "source": [
    "logReg = LogisticRegression(penalty='l1', solver='saga', C=2, max_iter=5000).fit(X1, y1)\n",
    "y2e = logReg.predict(X2)\n",
    "print('Erros: ', np.sum(y2!=y2e), '\\n')\n",
    "print('Matriz de confusão:\\n', confusion_matrix(y2,y2e))"
   ]
  },
  {
   "cell_type": "markdown",
   "metadata": {},
   "source": [
    "## 1.b)"
   ]
  },
  {
   "cell_type": "code",
   "execution_count": 111,
   "metadata": {},
   "outputs": [
    {
     "name": "stdout",
     "output_type": "stream",
     "text": [
      "Dimensões descartadas : 11 \n",
      "\n",
      "Dimensão 4 :  mean smoothness\n",
      "Dimensão 9 :  mean fractal dimension\n",
      "Dimensão 10 :  radius error\n",
      "Dimensão 14 :  smoothness error\n",
      "Dimensão 15 :  compactness error\n",
      "Dimensão 16 :  concavity error\n",
      "Dimensão 17 :  concave points error\n",
      "Dimensão 18 :  symmetry error\n",
      "Dimensão 19 :  fractal dimension error\n",
      "Dimensão 24 :  worst smoothness\n",
      "Dimensão 29 :  worst fractal dimension\n"
     ]
    },
    {
     "data": {
      "text/plain": [
       "[None, None, None, None, None, None, None, None, None, None, None]"
      ]
     },
     "execution_count": 111,
     "metadata": {},
     "output_type": "execute_result"
    }
   ],
   "source": [
    "w = logReg.coef_\n",
    "w = w.squeeze()\n",
    "idx = np.argwhere(w==0).squeeze()\n",
    "fn = D.feature_names\n",
    "print('Dimensões descartadas :', idx.shape[0], '\\n')\n",
    "[print('Dimensão', i, ': ', fn[i]) for i in idx]"
   ]
  },
  {
   "cell_type": "markdown",
   "metadata": {},
   "source": [
    "## 1.c)"
   ]
  },
  {
   "cell_type": "code",
   "execution_count": 112,
   "metadata": {},
   "outputs": [
    {
     "name": "stdout",
     "output_type": "stream",
     "text": [
      "[[87  7]\n",
      " [ 5 51]]\n"
     ]
    }
   ],
   "source": [
    "y2c = logReg.decision_function(X2)\n",
    "print(confusion_matrix(y2,y2c>-1.41))"
   ]
  },
  {
   "cell_type": "markdown",
   "metadata": {},
   "source": [
    "## 1.d)"
   ]
  },
  {
   "cell_type": "code",
   "execution_count": 113,
   "metadata": {},
   "outputs": [
    {
     "data": {
      "image/png": "[encoded data removed]",
      "text/plain": [
       "<Figure size 432x288 with 1 Axes>"
      ]
     },
     "metadata": {
      "needs_background": "light"
     },
     "output_type": "display_data"
    }
   ],
   "source": [
    "f, t, l = roc_curve(y2, y2c)\n",
    "\n",
    "#Classificador 1\n",
    "\n",
    "#FP/(FP+TN)\n",
    "f1 = 1/(93+1)\n",
    "#TP/(TP+FN)\n",
    "t1 = 45/(45+11)\n",
    "\n",
    "#Classificador 2\n",
    "\n",
    "#FP/(FP+TN)\n",
    "f2 = 7/(87+7)\n",
    "#TP/(TP+FN)\n",
    "t2 = 51/(5+51)\n",
    "\n",
    "plt.plot(f1,t1,'ok')\n",
    "plt.plot(f2,t2,'ob')\n",
    "\n",
    "plt.plot(f, t)\n",
    "plt.axis('scaled')\n",
    "plt.grid()\n",
    "\n"
   ]
  },
  {
   "cell_type": "markdown",
   "metadata": {},
   "source": [
    "<hr style=\"border:2px solid black\"> </hr>"
   ]
  },
  {
   "attachments": {},
   "cell_type": "markdown",
   "metadata": {},
   "source": [
    "# Pergunta 2 - SVMs:\n",
    "## Considere o classificador da função $\\texttt{SVC}$ com os parâmetros $\\texttt{kernel='rbf'}$ e $\\texttt{C=2}$.\n",
    "### a) Faça um pré-processamento dos dados usando a função $\\texttt{StandardScaler}$. Treine esta função com os dados treino e aplique a transformação aos três conjuntos (treino, validação e teste). Use os dados pré-processados nas alíneas seguintes.\n",
    "### b) Pertende-se estimar o valor do parâmetro $\\texttt{gamma}$  ($\\gamma$) mais adequado para este problema. Para tal, use o conjunto de validação para achar o valor de $\\gamma$ que resulta no menor número de erros (treine o $\\texttt{SVC}$ com o conjunto de treino). Teste os seguintes valores de $\\gamma$: $[0.005 , 0.0075, 0.01  , 0.0125, 0.015 , 0.0175]$.\n",
    "### c) Volte a treinar o classificador $\\texttt{SVC}$ com os dados de treino e validação, e com o melhor valor de $\\gamma$. Faça um plot da curva ROC deste classificador com os dados de teste. Inclua nesse plot o ponto operacional do classificador. \n",
    "### d)  Calibre o classificador da alínea anterior de modo a obter zero (0) falsos negativos nos dados de teste. Após a calibração qual o número mínimo de falso positivos obtidos no teste?"
   ]
  },
  {
   "cell_type": "markdown",
   "metadata": {},
   "source": [
    "## 2.a)"
   ]
  },
  {
   "cell_type": "code",
   "execution_count": 114,
   "metadata": {},
   "outputs": [],
   "source": [
    "from sklearn.preprocessing import StandardScaler\n",
    "\n",
    "#treinar com dados de treino\n",
    "sc = StandardScaler().fit(X1a)\n",
    "#dados de treino\n",
    "X1an = sc.transform(X1a)\n",
    "#dados de validaçao\n",
    "X1bn = sc.transform(X1b)\n",
    "#dados de teste\n",
    "X2n = sc.transform(X2)\n"
   ]
  },
  {
   "cell_type": "markdown",
   "metadata": {},
   "source": [
    "## 2.b)"
   ]
  },
  {
   "cell_type": "code",
   "execution_count": 115,
   "metadata": {},
   "outputs": [
    {
     "name": "stdout",
     "output_type": "stream",
     "text": [
      "Best Gamma: 0.009999999999999998\n",
      "Best Score: 0.99 \n",
      "\n",
      "Matriz de confusão do conjunto de validação\n",
      "[[63  0]\n",
      " [ 2 35]]\n"
     ]
    }
   ],
   "source": [
    "#svm=SVC(kernel='rbf',C=2)\n",
    "Gamma=np.arange(0.0050,0.02,0.0025)\n",
    "bestScore = 0\n",
    "bestGama = 0\n",
    "\n",
    "for g in Gamma:\n",
    "    #treinar svc com dados de treino\n",
    "    svm=SVC(kernel='rbf', C=2, gamma=g).fit(X1an, y1a)\n",
    "    score=svm.score(X1bn, y1b)\n",
    "    #se score com gamma atual for mlhr que anterior, substituir o bestGama \n",
    "    if score>bestScore:\n",
    "        bestScore = score\n",
    "        bestGamma = g\n",
    "\n",
    "print('Best Gamma:', bestGamma)\n",
    "print('Best Score:', bestScore, '\\n')\n",
    "print('Matriz de confusão do conjunto de validação')\n",
    "print(confusion_matrix(y1b, svm.predict(X1bn)))\n"
   ]
  },
  {
   "cell_type": "markdown",
   "metadata": {
    "scrolled": false
   },
   "source": [
    "## 2.c)"
   ]
  },
  {
   "cell_type": "code",
   "execution_count": 116,
   "metadata": {},
   "outputs": [
    {
     "name": "stdout",
     "output_type": "stream",
     "text": [
      "[[94  0]\n",
      " [ 2 54]]\n"
     ]
    },
    {
     "data": {
      "image/png": "[encoded data removed]",
      "text/plain": [
       "<Figure size 432x288 with 1 Axes>"
      ]
     },
     "metadata": {
      "needs_background": "light"
     },
     "output_type": "display_data"
    }
   ],
   "source": [
    "#aplicar standardscaler aos dados de treino e validação\n",
    "X1n = sc.transform(X1)\n",
    "#treinar svc com o mlhr gamma\n",
    "svm = SVC(kernel='rbf',C=2,gamma=0.01).fit(X1n,y1)\n",
    "#classificacao dos dados de teste\n",
    "y2c = svm.decision_function(X2n)\n",
    "#curva ROC\n",
    "ff, tt, ll= roc_curve(y2, y2c)\n",
    "\n",
    "print(confusion_matrix(y2,svm.predict(X2n)))\n",
    "\n",
    "#FP/(FP+TN)\n",
    "f1 = 0\n",
    "#TP/(TP+FN)\n",
    "f2 = 54/(2+54)\n",
    "\n",
    "plt.plot(f1, f2, 'ob')\n",
    "plt.plot(ff, tt)\n",
    "plt.axis('scaled')\n",
    "plt.grid()"
   ]
  },
  {
   "cell_type": "markdown",
   "metadata": {},
   "source": [
    "## 2.d)"
   ]
  },
  {
   "cell_type": "code",
   "execution_count": 117,
   "metadata": {},
   "outputs": [
    {
     "name": "stdout",
     "output_type": "stream",
     "text": [
      "[[84 10]\n",
      " [ 0 56]]\n",
      "\n",
      "Falsos positivos: 10\n"
     ]
    }
   ],
   "source": [
    "print(confusion_matrix(y2, y2c>=-.9))\n",
    "print('\\nFalsos positivos: 10')"
   ]
  }
 ],
 "metadata": {
  "kernelspec": {
   "display_name": "Python 3.9.12 ('base')",
   "language": "python",
   "name": "python3"
  },
  "language_info": {
   "codemirror_mode": {
    "name": "ipython",
    "version": 3
   },
   "file_extension": ".py",
   "mimetype": "text/x-python",
   "name": "python",
   "nbconvert_exporter": "python",
   "pygments_lexer": "ipython3",
   "version": "3.9.12"
  },
  "vscode": {
   "interpreter": {
    "hash": "5b2969845afce51981f1ccb76a9a4bb1e34295b95061f0a23dc09804e845d44d"
   }
  }
 },
 "nbformat": 4,
 "nbformat_minor": 4
}
