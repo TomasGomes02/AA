{
 "cells": [
  {
   "cell_type": "markdown",
   "metadata": {},
   "source": [
    "# LAb4: Modelos polinomiais"
   ]
  },
  {
   "cell_type": "markdown",
   "metadata": {},
   "source": [
    "<hr style=\"border:1px  solid black\"> </hr>"
   ]
  },
  {
   "cell_type": "markdown",
   "metadata": {},
   "source": [
    "### (Preencher)\n",
    "## Nome: \n",
    "## Número: "
   ]
  },
  {
   "cell_type": "markdown",
   "metadata": {},
   "source": [
    "<hr style=\"border:1px  solid black\"> </hr>"
   ]
  },
  {
   "cell_type": "markdown",
   "metadata": {},
   "source": [
    "## Desenvolva e corra o código pedido nas células imediatamente abaixo das perguntas."
   ]
  },
  {
   "cell_type": "markdown",
   "metadata": {},
   "source": [
    "# IMPORTANTE:\n",
    "## Uma vez completado, grave este Jupyter notebook com o seguinte nome:\n",
    "## Axxxxx-Lab4.ipynb (Axxxxx: número de aluno)\n",
    "##  e depois submeta o ficheiro no link do Moodle providenciado para o efeito."
   ]
  },
  {
   "cell_type": "markdown",
   "metadata": {},
   "source": [
    "<hr style=\"border:2px solid black\"> </hr>"
   ]
  },
  {
   "cell_type": "markdown",
   "metadata": {},
   "source": [
    "# Pergunta 1 - Discriminantes polinomiais:\n",
    "### Considere o ficheiro pickle $\\texttt{Lab4-T51D-P1.p}$ onde se encontra um dicionário de Python com as seguintes variáveis:\n",
    "* #### \"data\":       dados bi-dimensionais (4000 amostras)\n",
    "* #### \"target\":     classe dos dados (inteiros de 0 a 3)\n",
    "* #### \"foldTrain\":  array boleano indicando os dados a serem usados para treinar os classificadores\n",
    "* #### \"foldTest\":   array boleano indicando os dados a serem usados para testar os classificadores\n",
    "## a) Use os dados de treino para estimar discriminante polinomial de 4ª ordem.\n",
    "## b) Calcule as matrizes de confusão e o número total de erros nos dados de treino e de teste. Imprima os resultados.\n",
    "## c) Faça um \"plot\" dos dados de teste por classe, e dos erros do discriminante polinomial.\n",
    "## d) Explique brevemente porque é que mais de metade dos pontos da classe \"1\" não são bem classificados "
   ]
  },
  {
   "cell_type": "code",
   "execution_count": 6,
   "metadata": {},
   "outputs": [
    {
     "name": "stdout",
     "output_type": "stream",
     "text": [
      "dict_keys(['data', 'target', 'foldTrain', 'foldTest'])\n"
     ]
    }
   ],
   "source": [
    "import numpy as np\n",
    "import matplotlib.pyplot as plt\n",
    "import pickle\n",
    "from sklearn.metrics import confusion_matrix\n",
    "D=pickle.load(open('Lab4-T51D-P1.p','rb'))\n",
    "print(D.keys())"
   ]
  },
  {
   "cell_type": "markdown",
   "metadata": {},
   "source": [
    "## 1.a)"
   ]
  },
  {
   "cell_type": "code",
   "execution_count": 7,
   "metadata": {},
   "outputs": [],
   "source": [
    "from sklearn.preprocessing import PolynomialFeatures\n",
    "X=D['data']\n",
    "y=D['target']\n",
    "f1=D['foldTrain']\n",
    "f2=D['foldTest']\n",
    "X1=X[:,f1]\n",
    "y1=y[f1]\n",
    "X2=X[:,f2]\n",
    "y2=y[f2]\n",
    "Y1=-np.ones((4,y1.shape[0]))\n",
    "for i in range(4):\n",
    "    Y1[i,y1==i]=1\n",
    "poly=PolynomialFeatures(degree=4).fit(X1.T)\n",
    "X1b=poly.transform(X1.T).T\n",
    "X2b=poly.transform(X2.T).T\n",
    "Rx=np.dot(X1b,X1b.T)\n",
    "rxy=np.dot(X1b,Y1.T)\n",
    "W=np.dot(np.linalg.pinv(Rx),rxy)"
   ]
  },
  {
   "cell_type": "markdown",
   "metadata": {},
   "source": [
    "## 1.b)"
   ]
  },
  {
   "cell_type": "code",
   "execution_count": 12,
   "metadata": {},
   "outputs": [
    {
     "name": "stdout",
     "output_type": "stream",
     "text": [
      "Nº erros no treino: 42\n",
      "[[ 62  15   0  23]\n",
      " [  0  96   4   0]\n",
      " [  0   0 100   0]\n",
      " [  0   0   0 100]]\n",
      "\n",
      "Nº erros no teste: 845\n",
      "[[583 130   0 187]\n",
      " [400 372 128   0]\n",
      " [  0   0 900   0]\n",
      " [  0   0   0 900]]\n"
     ]
    }
   ],
   "source": [
    "y1e=np.argmax(np.dot(W.T,X1b),axis=0)\n",
    "print('Nº erros no treino:',np.sum(y1!=y1e))\n",
    "print(confusion_matrix(y1,y1e))\n",
    "\n",
    "y2e=np.argmax(np.dot(W.T,X2b),axis=0)\n",
    "print('\\nNº erros no teste:',np.sum(y2!=y2e))\n",
    "print(confusion_matrix(y2,y2e))"
   ]
  },
  {
   "cell_type": "markdown",
   "metadata": {},
   "source": [
    "## 1.c)"
   ]
  },
  {
   "cell_type": "code",
   "execution_count": 11,
   "metadata": {},
   "outputs": [
    {
     "data": {
      "image/png": "[encoded data removed]",
      "text/plain": [
       "<Figure size 432x288 with 1 Axes>"
      ]
     },
     "metadata": {
      "needs_background": "light"
     },
     "output_type": "display_data"
    }
   ],
   "source": [
    "plt.plot(X2[0,y2==0],X2[1,y2==0],'.')\n",
    "plt.plot(X2[0,y2==1],X2[1,y2==1],'.')\n",
    "plt.plot(X2[0,y2==2],X2[1,y2==2],'.')\n",
    "plt.plot(X2[0,y2==3],X2[1,y2==3],'.')\n",
    "plt.plot(X2[0,y2!=y2e],X2[1,y2!=y2e],'ok',alpha=.5)\n",
    "plt.axis('scaled')\n",
    "plt.grid(True)"
   ]
  },
  {
   "cell_type": "markdown",
   "metadata": {},
   "source": [
    "## 1.d)"
   ]
  },
  {
   "cell_type": "markdown",
   "metadata": {},
   "source": [
    "### O treino não contém a nuvem esquerda de pontos desta classe"
   ]
  },
  {
   "cell_type": "markdown",
   "metadata": {},
   "source": [
    "<hr style=\"border:2px solid black\"> </hr>"
   ]
  },
  {
   "cell_type": "markdown",
   "metadata": {},
   "source": [
    "# Pergunta 2 - Regressão polinomial:\n",
    "### Considere o ficheiro pickle $\\texttt{Lab4-T51D-P2.p}$ onde se encontra um dicionário de Python com as seguintes variáveis:\n",
    "* #### \"x\":       dados uni-dimensionais/variável independente (500 pontos)\n",
    "* #### \"y\":       variável dependente/saídas desejadas (500 pontos)\n",
    "* #### \"foldTrain\":  array boleano indicando os dados a serem usados para treinar os classificadores\n",
    "* #### \"foldTest\":   array boleano indicando os dados a serem usados para testar os classificadores\n",
    "\n",
    "## a) Use os dados de treino para estimar um regressor polinomial de 5ª ordem. Imprima os valores dos pesos.\n",
    "## b) Calcule o coeficiente de determinação ($\\bf R^2$) para os dados de treino e para os dados de teste.\n",
    "## c) Faça um \"plot\" do polinómio estimado. Visualize o polinómio conjutamente com os dados de teste. \n",
    "## d)  Explique brevemente porque é que o modelo não está bem adaptado aos dados de teste."
   ]
  },
  {
   "cell_type": "code",
   "execution_count": 14,
   "metadata": {},
   "outputs": [
    {
     "data": {
      "text/plain": [
       "dict_keys(['x', 'y', 'foldTrain', 'foldTest'])"
      ]
     },
     "execution_count": 14,
     "metadata": {},
     "output_type": "execute_result"
    }
   ],
   "source": [
    "D=pickle.load(open('Lab4-T51D-P2.p','rb'))\n",
    "D.keys()"
   ]
  },
  {
   "cell_type": "markdown",
   "metadata": {},
   "source": [
    "## 2.a)"
   ]
  },
  {
   "cell_type": "code",
   "execution_count": 40,
   "metadata": {},
   "outputs": [
    {
     "name": "stdout",
     "output_type": "stream",
     "text": [
      "[ 3.01920675  2.42982275  0.19422044 -0.29890342 -0.02875485  0.00515094]\n",
      "[ 0.          2.42982275  0.19422044 -0.29890342 -0.02875485  0.00515094]\n",
      "3.019206748237606\n"
     ]
    }
   ],
   "source": [
    "from sklearn.preprocessing import PolynomialFeatures\n",
    "x=D.x\n",
    "y=D.y\n",
    "f1=D.foldTrain\n",
    "f2=D.foldTest\n",
    "x1=x[f1]\n",
    "y1=y[f1]\n",
    "x2=x[f2]\n",
    "y2=y[f2]\n",
    "\n",
    "#adicionar 2ª dimensão\n",
    "X1=x1[:,np.newaxis]\n",
    "X2=x2[:,np.newaxis]\n",
    "poly=PolynomialFeatures(degree=5).fit(X1)\n",
    "X1b=poly.transform(X1).T\n",
    "X2b=poly.transform(X2).T\n",
    "\n",
    "Rx=np.dot(X1b,X1b.T)\n",
    "rxy=np.dot(X1b,y1.T)\n",
    "W=np.dot(np.linalg.pinv(Rx),rxy)\n",
    "print(W)\n",
    "\n",
    "# com funções do sklearn\n",
    "from sklearn.linear_model import LinearRegression\n",
    "lr=LinearRegression().fit(X1b.T,y1)\n",
    "print(lr.coef_)\n",
    "print(lr.intercept_)"
   ]
  },
  {
   "cell_type": "markdown",
   "metadata": {},
   "source": [
    "## 2.b)"
   ]
  },
  {
   "cell_type": "code",
   "execution_count": 41,
   "metadata": {},
   "outputs": [
    {
     "name": "stdout",
     "output_type": "stream",
     "text": [
      "R2-treino: 0.9482429591179281\n",
      "R2-teste: -20.211150360163526\n",
      "\n",
      "\n",
      "R2-treino: 0.9482429591179281\n",
      "R2-teste: -20.21115036011147\n"
     ]
    }
   ],
   "source": [
    "# estimar saídas para os dados de treino e teste\n",
    "y1e=np.dot(W,X1b)\n",
    "y2e=np.dot(W,X2b)\n",
    "#R2 para o treino\n",
    "SQtot=np.var(y1)\n",
    "SQres=np.mean((y1-y1e)**2)\n",
    "R2treino=1.-SQres/SQtot\n",
    "#R2 para o teste\n",
    "SQtot=np.var(y2)\n",
    "SQres=np.mean((y2-y2e)**2)\n",
    "R2teste=1.-SQres/SQtot\n",
    "print('R2-treino:',R2treino)\n",
    "print('R2-teste:',R2teste)\n",
    "\n",
    "#com sklearn\n",
    "print('\\n')\n",
    "print('R2-treino:',lr.score(X1b.T,y1))\n",
    "print('R2-teste:',lr.score(X2b.T,y2))\n"
   ]
  },
  {
   "cell_type": "markdown",
   "metadata": {
    "scrolled": false
   },
   "source": [
    "## 2.c)"
   ]
  },
  {
   "cell_type": "code",
   "execution_count": 43,
   "metadata": {},
   "outputs": [
    {
     "name": "stdout",
     "output_type": "stream",
     "text": [
      "-4.984047523469415 4.9925533528796855\n"
     ]
    },
    {
     "data": {
      "text/plain": [
       "[<matplotlib.lines.Line2D at 0x7f54a2fc8438>]"
      ]
     },
     "execution_count": 43,
     "metadata": {},
     "output_type": "execute_result"
    },
    {
     "data": {
      "image/png": "[encoded data removed]",
      "text/plain": [
       "<Figure size 432x288 with 1 Axes>"
      ]
     },
     "metadata": {
      "needs_background": "light"
     },
     "output_type": "display_data"
    }
   ],
   "source": [
    "# ver gama dos x\n",
    "print(x.min(),x.max())\n",
    "t=np.linspace(-5,5.1,500)\n",
    "T=poly.transform(t[:,np.newaxis]).T\n",
    "yt=np.dot(W,T)\n",
    "plt.plot(x2,y2,'.')\n",
    "plt.plot(t,yt,'r')"
   ]
  },
  {
   "cell_type": "markdown",
   "metadata": {},
   "source": [
    "## 2.d)"
   ]
  },
  {
   "cell_type": "markdown",
   "metadata": {},
   "source": [
    "### Os pontos da direita (valores mais elevados de x) não pertencem aos pontos de treino"
   ]
  }
 ],
 "metadata": {
  "kernelspec": {
   "display_name": "Python 3",
   "language": "python",
   "name": "python3"
  },
  "language_info": {
   "codemirror_mode": {
    "name": "ipython",
    "version": 3
   },
   "file_extension": ".py",
   "mimetype": "text/x-python",
   "name": "python",
   "nbconvert_exporter": "python",
   "pygments_lexer": "ipython3",
   "version": "3.6.9"
  }
 },
 "nbformat": 4,
 "nbformat_minor": 4
}
