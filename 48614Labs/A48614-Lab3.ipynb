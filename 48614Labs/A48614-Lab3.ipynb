{
 "cells": [
  {
   "cell_type": "markdown",
   "metadata": {},
   "source": [
    "# LAB3: PCA + LDA + conjunto de dados MNIST"
   ]
  },
  {
   "cell_type": "markdown",
   "metadata": {},
   "source": [
    "<hr style=\"border:1px  solid black\"> </hr>"
   ]
  },
  {
   "cell_type": "markdown",
   "metadata": {},
   "source": [
    "### (Preencher)\n",
    "## Nome: Tomás Gomes\n",
    "## Número: 48614"
   ]
  },
  {
   "cell_type": "markdown",
   "metadata": {},
   "source": [
    "<hr style=\"border:1px  solid black\"> </hr>"
   ]
  },
  {
   "cell_type": "markdown",
   "metadata": {},
   "source": [
    "## Desenvolva e corra o código pedido nas células imediatamente abaixo das perguntas."
   ]
  },
  {
   "cell_type": "markdown",
   "metadata": {},
   "source": [
    "# IMPORTANTE:\n",
    "## Uma vez completado, grave este Jupyter notebook com o seguinte nome:\n",
    "## Axxxxx-Lab3.ipynb (Axxxxx: número de aluno)\n",
    "##  e depois submeta o ficheiro no link do Moodle providenciado para o efeito."
   ]
  },
  {
   "cell_type": "markdown",
   "metadata": {},
   "source": [
    "<hr style=\"border:2px solid black\"> </hr>"
   ]
  },
  {
   "cell_type": "markdown",
   "metadata": {},
   "source": [
    "# Conjunto de dados $\\texttt{MNISTsmall.p}$:"
   ]
  },
  {
   "cell_type": "markdown",
   "metadata": {},
   "source": [
    "# Pergunta 1: Considere os dígitos \"2\" e \"8\"  dos dados (2000 dígitos de treino e 1000 de teste).\n",
    "## a) Calcule a matriz de PCA para os 2000 dígitos de treino. Guarde só as componentes principais cujos valores próprios seja maiores que cem (100) e especifique (imprima) esse o número. \n",
    "## b) Visualize em forma de imagem, as três primeiras componetes principais (3 imagens de $28\\times28$).\n",
    "## c) Aplique a transformação PCA aos dígitos  do conjunto de teste e faça a transformação inversa. Calcule o erro quadrático médio entre os dígitos de teste originais e os reconstruídos. Imprima o valor obtido.\n"
   ]
  },
  {
   "cell_type": "code",
   "execution_count": 187,
   "metadata": {},
   "outputs": [],
   "source": [
    "import numpy as np\n",
    "import matplotlib.pyplot as plt\n",
    "import scipy.linalg as la\n",
    "import pickle\n"
   ]
  },
  {
   "cell_type": "code",
   "execution_count": 188,
   "metadata": {},
   "outputs": [],
   "source": [
    "D = pickle.load(open('MNISTsmall.p', 'rb'))"
   ]
  },
  {
   "cell_type": "code",
   "execution_count": 189,
   "metadata": {},
   "outputs": [],
   "source": [
    "D.keys()\n",
    "X = D['X']*1.0\n",
    "f1 = D['foldTrain']\n",
    "f2 = D['foldTest']\n",
    "y = D['trueClass']\n",
    "X1 = X[:, f1]\n",
    "y1 = y[f1]\n",
    "X2 = X[:, f2]\n",
    "y2 = y[f2]\n",
    "\n",
    "X1 = X1[:,(y1==2) | (y1==8)] #dígitos de treino 2 e 8\n",
    "X2 = X2[:,(y2==2) | (y2==8)] #dígitos de teste 2 e 8"
   ]
  },
  {
   "cell_type": "code",
   "execution_count": 190,
   "metadata": {},
   "outputs": [
    {
     "name": "stdout",
     "output_type": "stream",
     "text": [
      "Nº de componentes principais: 419\n"
     ]
    },
    {
     "data": {
      "text/plain": [
       "(784, 419)"
      ]
     },
     "execution_count": 190,
     "metadata": {},
     "output_type": "execute_result"
    }
   ],
   "source": [
    "#1a)\n",
    "Cx = np.cov(X1)\n",
    "u, V = la.eig(Cx)\n",
    "#ignorar parte imaginária\n",
    "u = u.real\n",
    "V = V.real\n",
    "#print(u, \"\\n\", V)\n",
    "#ordenar por ordem decrescente\n",
    "idx = np.argsort(-u)\n",
    "u = u[idx]\n",
    "V = V[:, idx]\n",
    "V = V[:, u>100]\n",
    "nComps = V.shape[1]\n",
    "print('Nº de componentes principais:',nComps)\n",
    "\n",
    "#matriz de transformação (75% da variância)\n",
    "W = V[:, :nComps]\n",
    "W.shape"
   ]
  },
  {
   "cell_type": "code",
   "execution_count": 191,
   "metadata": {},
   "outputs": [
    {
     "data": {
      "text/plain": [
       "Text(0.5, 1.0, 'Componente 3')"
      ]
     },
     "execution_count": 191,
     "metadata": {},
     "output_type": "execute_result"
    },
    {
     "data": {
      "image/png": "[encoded data removed]",
      "text/plain": [
       "<Figure size 720x360 with 3 Axes>"
      ]
     },
     "metadata": {
      "needs_background": "light"
     },
     "output_type": "display_data"
    }
   ],
   "source": [
    "#1b)\n",
    "w1 = W[:, 0]\n",
    "w2 = W[:, 1]\n",
    "w3 = W[:, 2]\n",
    "\n",
    "plt.figure(figsize=(10,5))\n",
    "plt.subplot(131)\n",
    "plt.imshow(w1.reshape((28,28)),cmap='binary')\n",
    "plt.axis('off')\n",
    "plt.title('Componente 1')\n",
    "plt.subplot(132)\n",
    "plt.imshow(w2.reshape((28,28)),cmap='binary')\n",
    "plt.axis('off')\n",
    "plt.title('Componente 2')\n",
    "plt.subplot(133)\n",
    "plt.imshow(w3.reshape((28,28)),cmap='binary')\n",
    "plt.axis('off')\n",
    "plt.title('Componente 3')"
   ]
  },
  {
   "cell_type": "code",
   "execution_count": 192,
   "metadata": {},
   "outputs": [
    {
     "name": "stdout",
     "output_type": "stream",
     "text": [
      "Erro Quadrático Médio:  12.468215706524644\n"
     ]
    }
   ],
   "source": [
    "#1c)\n",
    "\n",
    "#transformar dados \n",
    "X2p = np.dot(W.T, X2)\n",
    "\n",
    "#reconstruçao de dados\n",
    "X2r = np.dot(W, X2p)\n",
    "\n",
    "#erro quadratico médio\n",
    "eqm = np.mean((X2-X2r)**2)\n",
    "print('Erro Quadrático Médio: ' , eqm)"
   ]
  },
  {
   "cell_type": "markdown",
   "metadata": {},
   "source": [
    "# Pergunta 2: Considere os dígitos \"1\", \"4\" e \"7\" dos dados (3000 dígitos de treino e 1500 dígitos de teste).\n",
    "## a) Estime a transformação PCA com os dados de treino, de modo aos dados projetados terem $90\\%$ da variância total dos dados e aplique a transformação aos dados de treino e teste. \n",
    "## b) Treine o classificador $\\texttt{SVC(kernel='rbf')}$ com os dados de treino transformados, e calcule a matriz de confusão e o número total de erros nos dados de teste transformados.\n",
    "## c) Pretende-se aplicar a transformação LDA aos dados processados com PCA. Estime a transformação LDA com os dados de treino e aplique a transformação aos dados de treino e teste. Faça um \"plot\"  dos dados de teste por classe no mesmo gráfico.\n",
    "## d) Treine o classificador $\\texttt{SVC(kernel='rbf')}$ com os dados transformados da alínea anterior, e calcule a matriz de confusão e o número total de erros nos dados de teste."
   ]
  },
  {
   "cell_type": "code",
   "execution_count": 193,
   "metadata": {},
   "outputs": [],
   "source": [
    "from sklearn.metrics import confusion_matrix as MC\n",
    "from sklearn.discriminant_analysis import LinearDiscriminantAnalysis as LDA\n",
    "from sklearn.svm import SVC\n",
    "svm=SVC(kernel='rbf')"
   ]
  },
  {
   "cell_type": "code",
   "execution_count": 194,
   "metadata": {},
   "outputs": [],
   "source": [
    "from sklearn.decomposition import PCA\n",
    "\n",
    "D = pickle.load(open('MNISTsmall.p', 'rb'))\n",
    "D.keys()\n",
    "X = D['X']*1.0\n",
    "f1 = D['foldTrain']\n",
    "f2 = D['foldTest']\n",
    "y = D['trueClass']\n",
    "X1 = X[:, f1]\n",
    "y1 = y[f1]\n",
    "X2 = X[:, f2]\n",
    "y2 = y[f2]\n",
    "\n",
    "X1 = X1[:,(y1==1) | (y1==4) | (y1==7)] \n",
    "y1 = y1[(y1==1) | (y1==4) | (y1==7)]\n",
    "X2 = X2[:,(y2==1) | (y2==4) | (y2==7)] \n",
    "y2 = y2[(y2==1) | (y2==4) | (y2==7)]"
   ]
  },
  {
   "cell_type": "code",
   "execution_count": 195,
   "metadata": {},
   "outputs": [
    {
     "name": "stdout",
     "output_type": "stream",
     "text": [
      "(1500, 67)\n"
     ]
    }
   ],
   "source": [
    "#2a)\n",
    "pca = PCA(n_components=0.90).fit(X1.T) #90% variancia total\n",
    "X1p = pca.transform(X1.T)\n",
    "X2p = pca.transform(X2.T)\n",
    "print(X2p.shape)"
   ]
  },
  {
   "cell_type": "code",
   "execution_count": 196,
   "metadata": {},
   "outputs": [
    {
     "name": "stdout",
     "output_type": "stream",
     "text": [
      "Matriz de confusão:\n",
      " [[497   0   3]\n",
      " [  0 500   0]\n",
      " [ 13   7 480]]\n",
      "Número total de erros no conjunto de teste: 23\n"
     ]
    }
   ],
   "source": [
    "#2b)\n",
    "svm.fit(X1p,y1)\n",
    "y2e = svm.predict(X2p)\n",
    "print('Matriz de confusão:\\n', MC(y2,y2e))\n",
    "print('Número total de erros no conjunto de teste:', np.sum(y2!=y2e))"
   ]
  },
  {
   "cell_type": "code",
   "execution_count": 197,
   "metadata": {},
   "outputs": [
    {
     "data": {
      "image/png": "[encoded data removed]",
      "text/plain": [
       "<Figure size 432x288 with 1 Axes>"
      ]
     },
     "metadata": {
      "needs_background": "light"
     },
     "output_type": "display_data"
    }
   ],
   "source": [
    "#2c)\n",
    "lda = LDA().fit(X1p, y1)\n",
    "X1l = lda.transform(X1p)\n",
    "X2l = lda.transform(X2p)\n",
    "\n",
    "plt.plot(X2l[y2==1,0],X2l[y2==1,1],'.')\n",
    "plt.plot(X2l[y2==4,0],X2l[y2==4,1],'.')\n",
    "plt.plot(X2l[y2==7,0],X2l[y2==7,1],'.')\n",
    "\n",
    "plt.axis('scaled')\n",
    "plt.grid()"
   ]
  },
  {
   "cell_type": "code",
   "execution_count": 198,
   "metadata": {},
   "outputs": [
    {
     "name": "stdout",
     "output_type": "stream",
     "text": [
      "Matriz de confusão:\n",
      " [[497   1   2]\n",
      " [  0 492   8]\n",
      " [ 17  18 465]]\n",
      "Número total de erros no conjunto de teste: 46\n"
     ]
    }
   ],
   "source": [
    "#2d)\n",
    "svm.fit(X1l, y1)\n",
    "y2e = svm.predict(X2l)\n",
    "print('Matriz de confusão:\\n', MC(y2,y2e))\n",
    "print('Número total de erros no conjunto de teste:', np.sum(y2!=y2e))"
   ]
  }
 ],
 "metadata": {
  "kernelspec": {
   "display_name": "Python 3.9.12 ('base')",
   "language": "python",
   "name": "python3"
  },
  "language_info": {
   "codemirror_mode": {
    "name": "ipython",
    "version": 3
   },
   "file_extension": ".py",
   "mimetype": "text/x-python",
   "name": "python",
   "nbconvert_exporter": "python",
   "pygments_lexer": "ipython3",
   "version": "3.9.12"
  },
  "vscode": {
   "interpreter": {
    "hash": "5b2969845afce51981f1ccb76a9a4bb1e34295b95061f0a23dc09804e845d44d"
   }
  }
 },
 "nbformat": 4,
 "nbformat_minor": 4
}
